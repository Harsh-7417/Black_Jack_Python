{
 "cells": [
  {
   "cell_type": "markdown",
   "metadata": {},
   "source": [
    "# Blackjack Game\n",
    "a Complete BlackJack Card Game in Python.\n",
    "\n",
    "Here are the functionalities:\n",
    "\n",
    "* a simple text-based [BlackJack](https://en.wikipedia.org/wiki/Blackjack) game\n",
    "* The game needs to have one player versus an automated dealer.\n",
    "* The player can stand or hit.\n",
    "* The player can pick their betting amount.\n",
    "* Track of the player's total money.\n",
    "* Alert to player of wins, losses, or busts, etc...\n",
    "\n",
    "Note:\n",
    "\n",
    "* **Game is built using core OOP and classes concept instead of using predefined functions.There are many right ways to do this, it is one of them!**\n",
    "\n",
    "\n",
    "Feel free to expand this game.\n",
    "\n",
    "# HAVE FUN!"
   ]
  }
 ],
 "metadata": {
  "kernelspec": {
   "display_name": "Python 3",
   "language": "python",
   "name": "python3"
  },
  "language_info": {
   "codemirror_mode": {
    "name": "ipython",
    "version": 3
   },
   "file_extension": ".py",
   "mimetype": "text/x-python",
   "name": "python",
   "nbconvert_exporter": "python",
   "pygments_lexer": "ipython3",
   "version": "3.7.0"
  }
 },
 "nbformat": 4,
 "nbformat_minor": 1
}
